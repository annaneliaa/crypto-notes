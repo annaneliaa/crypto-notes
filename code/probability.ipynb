{
 "cells": [
  {
   "cell_type": "code",
   "execution_count": 7,
   "metadata": {},
   "outputs": [],
   "source": [
    "M = [1/3, 4/15, 1/5, 1/5]\n",
    "K = [1/5, 3/10, 1/5, 3/10]\n",
    "\n",
    "msg = ['a', 'b', 'c', 'd']\n",
    "\n",
    "scheme = [\n",
    "    [3, 1, 4, 2],\n",
    "    [2, 4, 1, 3],\n",
    "    [4, 2, 3, 1],\n",
    "    [1, 3, 2, 4]\n",
    "]"
   ]
  },
  {
   "cell_type": "code",
   "execution_count": 8,
   "metadata": {},
   "outputs": [
    {
     "name": "stdout",
     "output_type": "stream",
     "text": [
      "P(C=1) = 0.2533333333333333\n",
      "P(C=2) = 0.2533333333333333\n",
      "P(C=3) = 0.24666666666666667\n",
      "P(C=4) = 0.24666666666666667\n"
     ]
    }
   ],
   "source": [
    "def prob_ciper(cipher, M, K, scheme):\n",
    "    rows, cols = len(scheme), len(scheme[0])\n",
    "\n",
    "    total = 0\n",
    "    for i in range(rows):\n",
    "        for j in range(cols):\n",
    "            if scheme[i][j] == cipher:\n",
    "                total+= M[i] * K[j]\n",
    "\n",
    "    return total\n",
    "\n",
    "\n",
    "for i in range(4):\n",
    "    print(f\"P(C={i+1}) =\", prob_ciper(i+1, M, K, scheme))"
   ]
  },
  {
   "cell_type": "code",
   "execution_count": 9,
   "metadata": {},
   "outputs": [
    {
     "name": "stdout",
     "output_type": "stream",
     "text": [
      "P(C=1|P=a) = 0.3\n",
      "P(C=2|P=a) = 0.3\n",
      "P(C=3|P=a) = 0.2\n",
      "P(C=4|P=a) = 0.2\n",
      "P(C=1|P=b) = 0.2\n",
      "P(C=2|P=b) = 0.2\n",
      "P(C=3|P=b) = 0.3\n",
      "P(C=4|P=b) = 0.3\n",
      "P(C=1|P=c) = 0.3\n",
      "P(C=2|P=c) = 0.3\n",
      "P(C=3|P=c) = 0.2\n",
      "P(C=4|P=c) = 0.2\n",
      "P(C=1|P=d) = 0.2\n",
      "P(C=2|P=d) = 0.2\n",
      "P(C=3|P=d) = 0.3\n",
      "P(C=4|P=d) = 0.3\n"
     ]
    }
   ],
   "source": [
    "def prob_cipher_given_plain(cipher, plain, K, scheme):\n",
    "    rows, cols = len(scheme), len(scheme[0])\n",
    "\n",
    "    total = 0\n",
    "\n",
    "    col = ord(plain) - ord('a')\n",
    "\n",
    "    # get only the column col\n",
    "    col = [scheme[i][col] for i in range(rows)]\n",
    "\n",
    "    for c in col:\n",
    "        if c == cipher:\n",
    "            total+= K[col.index(c)]\n",
    "\n",
    "    return total\n",
    "\n",
    "for char in msg:\n",
    "    for i in range(4):\n",
    "        print(f\"P(C={i+1}|P={char}) =\", prob_cipher_given_plain(i+1, char, K, scheme))"
   ]
  },
  {
   "cell_type": "code",
   "execution_count": 10,
   "metadata": {},
   "outputs": [
    {
     "name": "stdout",
     "output_type": "stream",
     "text": [
      "P(P=a|C=1) = 0.39473684210526316\n",
      "P(P=a|C=2) = 0.39473684210526316\n",
      "P(P=a|C=3) = 0.2702702702702703\n",
      "P(P=a|C=4) = 0.2702702702702703\n",
      "P(P=b|C=1) = 0.21052631578947373\n",
      "P(P=b|C=2) = 0.21052631578947373\n",
      "P(P=b|C=3) = 0.32432432432432434\n",
      "P(P=b|C=4) = 0.32432432432432434\n",
      "P(P=c|C=1) = 0.2368421052631579\n",
      "P(P=c|C=2) = 0.2368421052631579\n",
      "P(P=c|C=3) = 0.1621621621621622\n",
      "P(P=c|C=4) = 0.1621621621621622\n",
      "P(P=d|C=1) = 0.1578947368421053\n",
      "P(P=d|C=2) = 0.1578947368421053\n",
      "P(P=d|C=3) = 0.24324324324324323\n",
      "P(P=d|C=4) = 0.24324324324324323\n"
     ]
    }
   ],
   "source": [
    "def prob_plain_given_cipher(plain, cipher, M, scheme):\n",
    "    rows, cols = len(scheme), len(scheme[0])\n",
    "\n",
    "    total = 0\n",
    "\n",
    "    p = ord(plain) - ord('a')\n",
    "\n",
    "    prob = M[p]*prob_cipher_given_plain(cipher, plain, K, scheme)/prob_ciper(cipher, M, K, scheme)\n",
    "\n",
    "    return prob\n",
    "\n",
    "for char in msg:\n",
    "    for i in range(4):\n",
    "        print(f\"P(P={char}|C={i+1}) =\", prob_plain_given_cipher(char, i+1, M, scheme))"
   ]
  },
  {
   "cell_type": "code",
   "execution_count": 14,
   "metadata": {},
   "outputs": [],
   "source": [
    "import math\n",
    "\n",
    "def conditional_entropy(M, K, scheme, msg):\n",
    "    m_total = 1\n",
    "    for char in msg:\n",
    "        c_total = 0\n",
    "        for i in range(4):\n",
    "            pc = prob_ciper(i+1, M, K, scheme)\n",
    "            ppc = prob_plain_given_cipher(char, i+1, M, scheme)\n",
    "\n",
    "            c_total += (pc * ppc * math.log(ppc, 2))\n",
    "\n",
    "    m_total *= c_total\n",
    "\n",
    "    return -1*m_total"
   ]
  },
  {
   "cell_type": "code",
   "execution_count": 15,
   "metadata": {},
   "outputs": [
    {
     "data": {
      "text/plain": [
       "0.4577806047201909"
      ]
     },
     "execution_count": 15,
     "metadata": {},
     "output_type": "execute_result"
    }
   ],
   "source": [
    "conditional_entropy(M, K, scheme, msg)"
   ]
  }
 ],
 "metadata": {
  "kernelspec": {
   "display_name": "base",
   "language": "python",
   "name": "python3"
  },
  "language_info": {
   "codemirror_mode": {
    "name": "ipython",
    "version": 3
   },
   "file_extension": ".py",
   "mimetype": "text/x-python",
   "name": "python",
   "nbconvert_exporter": "python",
   "pygments_lexer": "ipython3",
   "version": "3.12.2"
  }
 },
 "nbformat": 4,
 "nbformat_minor": 2
}
